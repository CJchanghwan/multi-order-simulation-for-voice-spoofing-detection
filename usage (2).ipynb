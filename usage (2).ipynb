{
 "cells": [
  {
   "cell_type": "markdown",
   "id": "b803f3a8",
   "metadata": {},
   "source": [
    "# 사전학습"
   ]
  },
  {
   "cell_type": "code",
   "execution_count": null,
   "id": "56909d20",
   "metadata": {
    "scrolled": true
   },
   "outputs": [
    {
     "name": "stdout",
     "output_type": "stream",
     "text": [
      "Initialised Softmax Loss\n",
      "start pre-training....\n",
      "  1%|▏                                         | 8/1380 [00:29<27:43,  1.21s/it]"
     ]
    }
   ],
   "source": [
    "!python pre-training.py "
   ]
  },
  {
   "cell_type": "markdown",
   "id": "f87e0e66",
   "metadata": {},
   "source": [
    "# fine-tuning"
   ]
  },
  {
   "cell_type": "code",
   "execution_count": null,
   "id": "eec5196f",
   "metadata": {
    "scrolled": false
   },
   "outputs": [
    {
     "name": "stdout",
     "output_type": "stream",
     "text": [
      "Initialized pretrained with multi-order simulation....\n",
      "Initialised Softmax Loss\n",
      "start training....\n",
      "  1%|▌                                        | 19/1307 [00:13<12:13,  1.76it/s]"
     ]
    }
   ],
   "source": [
    "!python fine-tuning.py"
   ]
  },
  {
   "cell_type": "markdown",
   "id": "7d6b8cfc",
   "metadata": {},
   "source": [
    "# evaluate"
   ]
  },
  {
   "cell_type": "code",
   "execution_count": 3,
   "id": "719fb4c2",
   "metadata": {},
   "outputs": [
    {
     "name": "stdout",
     "output_type": "stream",
     "text": [
      "Initialised Softmax Loss\n",
      "evaluating...\n",
      "test_acc : tensor([97.7583], device='cuda:0') test_loss :  tensor(0.0663, device='cuda:0') f1_score 0.9520231107610597\n"
     ]
    }
   ],
   "source": [
    "!python evaluate.py"
   ]
  },
  {
   "cell_type": "code",
   "execution_count": null,
   "id": "93ce5d1f",
   "metadata": {},
   "outputs": [],
   "source": [
    "1710000"
   ]
  }
 ],
 "metadata": {
  "kernelspec": {
   "display_name": "Python 3 (ipykernel)",
   "language": "python",
   "name": "python3"
  },
  "language_info": {
   "codemirror_mode": {
    "name": "ipython",
    "version": 3
   },
   "file_extension": ".py",
   "mimetype": "text/x-python",
   "name": "python",
   "nbconvert_exporter": "python",
   "pygments_lexer": "ipython3",
   "version": "3.8.12"
  }
 },
 "nbformat": 4,
 "nbformat_minor": 5
}
